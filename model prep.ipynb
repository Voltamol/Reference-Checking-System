{
 "cells": [
  {
   "cell_type": "code",
   "execution_count": 1,
   "id": "790e1661-1c0a-4d4b-a292-34a48515daf3",
   "metadata": {
    "canvas": {
     "comments": [],
     "componentType": "CodeCell",
     "copiedOriginId": null,
     "diskcache": false,
     "headerColor": "transparent",
     "id": "2932e3ee-a395-4814-b456-fd02dafc897d",
     "isComponent": false,
     "name": "",
     "parents": []
    }
   },
   "outputs": [],
   "source": [
    "import numpy as np\n",
    "import pickle"
   ]
  },
  {
   "cell_type": "code",
   "execution_count": 2,
   "id": "7520388c-c223-4d21-bcc1-2956cfaa0d7d",
   "metadata": {
    "canvas": {
     "comments": [],
     "componentType": "CodeCell",
     "copiedOriginId": null,
     "diskcache": false,
     "headerColor": "transparent",
     "id": "32f0d92e-116f-4add-81f7-aa7feb37093c",
     "isComponent": false,
     "name": "",
     "parents": []
    }
   },
   "outputs": [],
   "source": [
    "with open(\"model.pickle\",\"rb\") as binary:\n",
    "    model=pickle.load(binary)"
   ]
  },
  {
   "cell_type": "code",
   "execution_count": 3,
   "id": "c05c2c1c-7c17-4a51-b490-c4360df98ad1",
   "metadata": {
    "canvas": {
     "comments": [],
     "componentType": "CodeCell",
     "copiedOriginId": null,
     "diskcache": false,
     "headerColor": "transparent",
     "id": "100765fc-ef33-476a-a392-be8e982a636b",
     "isComponent": false,
     "name": "",
     "parents": []
    },
    "tags": []
   },
   "outputs": [],
   "source": [
    "def classify(comment):\n",
    "    arr=np.array([comment])\n",
    "    probabilities = model.predict_proba(arr)[0]\n",
    "    labels=['negative','positive','neutral']\n",
    "    return dict(zip(labels,probabilities))"
   ]
  },
  {
   "cell_type": "code",
   "execution_count": 4,
   "id": "f778b721-8f90-489a-a25c-78f40968af2a",
   "metadata": {
    "canvas": {
     "comments": [],
     "componentType": "CodeCell",
     "copiedOriginId": null,
     "diskcache": false,
     "headerColor": "transparent",
     "id": "3dd59a25-1b8a-42f6-9df3-8c00dc737b43",
     "isComponent": false,
     "name": "",
     "parents": []
    }
   },
   "outputs": [
    {
     "data": {
      "text/plain": [
       "{'negative': 0.15, 'positive': 0.4, 'neutral': 0.45}"
      ]
     },
     "execution_count": 4,
     "metadata": {},
     "output_type": "execute_result"
    }
   ],
   "source": [
    "classify('he sucks at some stuff but is willing to learn')"
   ]
  },
  {
   "cell_type": "code",
   "execution_count": null,
   "id": "ea85ba9a-6c1a-4360-81fc-68a3612756ff",
   "metadata": {
    "canvas": {
     "comments": [],
     "componentType": "CodeCell",
     "copiedOriginId": null,
     "diskcache": false,
     "headerColor": "transparent",
     "id": "386a0733-be7a-4dc8-82e6-f51776dff684",
     "isComponent": false,
     "name": "",
     "parents": []
    }
   },
   "outputs": [],
   "source": []
  }
 ],
 "metadata": {
  "canvas": {
   "colorPalette": [
    "inherit",
    "inherit",
    "inherit",
    "inherit",
    "inherit",
    "inherit",
    "inherit",
    "inherit",
    "inherit",
    "inherit"
   ],
   "parameters": [],
   "version": "1.0"
  },
  "kernelspec": {
   "display_name": "Python 3 (ipykernel)",
   "language": "python",
   "name": "python3"
  },
  "language_info": {
   "codemirror_mode": {
    "name": "ipython",
    "version": 3
   },
   "file_extension": ".py",
   "mimetype": "text/x-python",
   "name": "python",
   "nbconvert_exporter": "python",
   "pygments_lexer": "ipython3",
   "version": "3.10.12"
  }
 },
 "nbformat": 4,
 "nbformat_minor": 5
}
