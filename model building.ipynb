{
 "cells": [
  {
   "cell_type": "code",
   "execution_count": 1,
   "id": "7dae6169-21e4-484b-a8e4-bce0f987c3ca",
   "metadata": {
    "canvas": {
     "comments": [],
     "componentType": "CodeCell",
     "copiedOriginId": null,
     "diskcache": true,
     "headerColor": "transparent",
     "id": "8b5c5722-ddd7-409e-9f6c-7557c38a8e46",
     "isComponent": true,
     "name": "importing necessary libraries",
     "parents": []
    },
    "tags": []
   },
   "outputs": [],
   "source": [
    "import tensorflow as tf\n",
    "from tensorflow.keras.preprocessing.text import Tokenizer\n",
    "from tensorflow.keras.preprocessing.sequence import pad_sequences\n",
    "from tensorflow.keras.models import Sequential\n",
    "from tensorflow.keras.layers import Embedding, LSTM, Dense\n",
    "import pickle"
   ]
  },
  {
   "cell_type": "code",
   "execution_count": 2,
   "id": "3d8f0a4f-dc57-487b-abde-fcfdc40c6294",
   "metadata": {
    "canvas": {
     "comments": [],
     "componentType": "CodeCell",
     "copiedOriginId": null,
     "diskcache": true,
     "headerColor": "transparent",
     "id": "4917b369-f41b-47df-8e83-feffa5990e7f",
     "isComponent": true,
     "name": "defining parameters for  model",
     "parents": [
      {
       "id": "8b5c5722-ddd7-409e-9f6c-7557c38a8e46",
       "name": "importing necessary libraries"
      }
     ]
    },
    "tags": []
   },
   "outputs": [],
   "source": [
    "max_words = 10000  # Maximum number of words to keep based on word frequency\n",
    "max_len = 100  # Maximum length of input sequences\n",
    "embedding_dim = 100  # Dimension of word embeddings"
   ]
  },
  {
   "cell_type": "code",
   "execution_count": 3,
   "id": "1e06f48a-11d0-403b-9b4a-9da41bb998a9",
   "metadata": {
    "canvas": {
     "comments": [],
     "componentType": "CodeCell",
     "copiedOriginId": null,
     "diskcache": true,
     "headerColor": "transparent",
     "id": "eec0806c-ee19-429d-913e-ae4a2fb2408a",
     "isComponent": true,
     "name": "reading dataset",
     "parents": []
    },
    "tags": []
   },
   "outputs": [],
   "source": [
    "import pandas as pd\n",
    "data=pd.read_csv('employee_sentiments.csv')"
   ]
  },
  {
   "cell_type": "code",
   "execution_count": 4,
   "id": "470c313c-8dcb-4ebb-b323-8b06840d9cdf",
   "metadata": {
    "canvas": {
     "comments": [],
     "componentType": "CodeCell",
     "copiedOriginId": null,
     "diskcache": true,
     "headerColor": "transparent",
     "id": "06cb7217-c4ae-4c7a-9ca3-fd6241511cce",
     "isComponent": true,
     "name": "tokenizing the text and conver",
     "parents": [
      {
       "id": "4917b369-f41b-47df-8e83-feffa5990e7f",
       "name": "defining parameters for  model"
      },
      {
       "id": "eec0806c-ee19-429d-913e-ae4a2fb2408a",
       "name": "reading dataset"
      }
     ]
    },
    "tags": []
   },
   "outputs": [],
   "source": [
    "\n",
    "comments = data['feedback_clean']\n",
    "labels = ['positive', 'negative', 'neutral']\n",
    "\n",
    "# Tokenize the text\n",
    "tokenizer = Tokenizer(num_words=max_words)\n",
    "tokenizer.fit_on_texts(comments)\n",
    "sequences = tokenizer.texts_to_sequences(comments)\n",
    "\n",
    "# Pad sequences to have consistent length\n",
    "padded_sequences = pad_sequences(sequences, maxlen=max_len)"
   ]
  },
  {
   "cell_type": "code",
   "execution_count": 5,
   "id": "8b1606e8-ed77-4d2f-beb0-523548d9f82d",
   "metadata": {
    "canvas": {
     "comments": [],
     "componentType": "CodeCell",
     "copiedOriginId": null,
     "diskcache": false,
     "headerColor": "transparent",
     "id": "7e7c1f28-0bf0-47a8-be5d-93c7097b6fb1",
     "isComponent": true,
     "name": "dropping the labels column",
     "parents": [
      {
       "id": "eec0806c-ee19-429d-913e-ae4a2fb2408a",
       "name": "reading dataset"
      }
     ]
    },
    "tags": []
   },
   "outputs": [],
   "source": [
    "data.drop('sentiment_label',axis=1,inplace=True)"
   ]
  },
  {
   "cell_type": "code",
   "execution_count": 6,
   "id": "d15714f2-f14f-4ee7-92d5-4d24c47467cd",
   "metadata": {
    "canvas": {
     "comments": [],
     "componentType": "CodeCell",
     "copiedOriginId": null,
     "diskcache": false,
     "headerColor": "transparent",
     "id": "b90d1687-c6ff-40f1-af2f-fec8476e0d95",
     "isComponent": true,
     "name": "checking the padded sequences",
     "parents": [
      {
       "id": "06cb7217-c4ae-4c7a-9ca3-fd6241511cce",
       "name": "tokenizing the text and conver"
      }
     ]
    },
    "tags": []
   },
   "outputs": [
    {
     "data": {
      "text/plain": [
       "array([[  0,   0,   0, ...,  20,  21, 165],\n",
       "       [  0,   0,   0, ..., 465,   3, 290],\n",
       "       [  0,   0,   0, ...,  15,  36,  33],\n",
       "       ...,\n",
       "       [  0,   0,   0, ...,   3,  82, 165],\n",
       "       [  0,   0,   0, ...,  60,  32,  93],\n",
       "       [  0,   0,   0, ...,   1,  38, 136]])"
      ]
     },
     "execution_count": 6,
     "metadata": {},
     "output_type": "execute_result"
    }
   ],
   "source": [
    "padded_sequences"
   ]
  },
  {
   "cell_type": "code",
   "execution_count": 7,
   "id": "5ecb65c3-54e3-4e80-8dfd-dd138ea3b8ed",
   "metadata": {
    "canvas": {
     "comments": [],
     "componentType": "CodeCell",
     "copiedOriginId": null,
     "diskcache": true,
     "headerColor": "transparent",
     "id": "b54df246-1156-4138-8288-5903ec4445de",
     "isComponent": true,
     "name": "creating train and test data",
     "parents": [
      {
       "id": "06cb7217-c4ae-4c7a-9ca3-fd6241511cce",
       "name": "tokenizing the text and conver"
      },
      {
       "id": "eec0806c-ee19-429d-913e-ae4a2fb2408a",
       "name": "reading dataset"
      }
     ]
    },
    "tags": []
   },
   "outputs": [],
   "source": [
    "train_data=padded_sequences\n",
    "train_labels=data['performance_class']"
   ]
  },
  {
   "cell_type": "code",
   "execution_count": 8,
   "id": "985f6b58-2c3d-4b6b-818b-0eb384c71778",
   "metadata": {
    "canvas": {
     "comments": [],
     "componentType": "CodeCell",
     "copiedOriginId": null,
     "diskcache": true,
     "headerColor": "transparent",
     "id": "91a5caec-c8fe-4e95-b4d3-790a02e511f2",
     "isComponent": true,
     "name": "model architecture",
     "parents": [
      {
       "id": "8b5c5722-ddd7-409e-9f6c-7557c38a8e46",
       "name": "importing necessary libraries"
      },
      {
       "id": "b54df246-1156-4138-8288-5903ec4445de",
       "name": "creating train and test data"
      }
     ]
    },
    "tags": []
   },
   "outputs": [
    {
     "name": "stdout",
     "output_type": "stream",
     "text": [
      "Epoch 1/15\n",
      "41/41 [==============================] - 7s 61ms/step - loss: 1.0968 - accuracy: 0.3216\n",
      "Epoch 2/15\n",
      "41/41 [==============================] - 3s 61ms/step - loss: 0.9251 - accuracy: 0.5762\n",
      "Epoch 3/15\n",
      "41/41 [==============================] - 3s 64ms/step - loss: 0.6078 - accuracy: 0.6768\n",
      "Epoch 4/15\n",
      "41/41 [==============================] - 3s 62ms/step - loss: 0.3757 - accuracy: 0.8659\n",
      "Epoch 5/15\n",
      "41/41 [==============================] - 3s 65ms/step - loss: 0.2388 - accuracy: 0.9345\n",
      "Epoch 6/15\n",
      "41/41 [==============================] - 2s 61ms/step - loss: 0.0997 - accuracy: 0.9741\n",
      "Epoch 7/15\n",
      "41/41 [==============================] - 3s 63ms/step - loss: 0.1227 - accuracy: 0.9680\n",
      "Epoch 8/15\n",
      "41/41 [==============================] - 3s 68ms/step - loss: 0.0445 - accuracy: 0.9924\n",
      "Epoch 9/15\n",
      "41/41 [==============================] - 3s 61ms/step - loss: 0.0417 - accuracy: 0.9893\n",
      "Epoch 10/15\n",
      "41/41 [==============================] - 3s 62ms/step - loss: 0.0466 - accuracy: 0.9924\n",
      "Epoch 11/15\n",
      "41/41 [==============================] - 3s 63ms/step - loss: 0.0224 - accuracy: 0.9954\n",
      "Epoch 12/15\n",
      "41/41 [==============================] - 3s 63ms/step - loss: 0.0172 - accuracy: 0.9985\n",
      "Epoch 13/15\n",
      "41/41 [==============================] - 3s 64ms/step - loss: 0.0037 - accuracy: 1.0000\n",
      "Epoch 14/15\n",
      "41/41 [==============================] - 2s 59ms/step - loss: 0.0020 - accuracy: 1.0000\n",
      "Epoch 15/15\n",
      "41/41 [==============================] - 3s 66ms/step - loss: 0.0015 - accuracy: 1.0000\n"
     ]
    },
    {
     "data": {
      "text/plain": [
       "<keras.src.callbacks.History at 0x2b930c0ad50>"
      ]
     },
     "execution_count": 8,
     "metadata": {},
     "output_type": "execute_result"
    }
   ],
   "source": [
    "model = Sequential()\n",
    "model.add(Embedding(max_words, embedding_dim, input_length=max_len))\n",
    "model.add(LSTM(64))\n",
    "model.add(Dense(3, activation='softmax'))  # 3 output classes: positive, negative, neutral\n",
    "\n",
    "model.compile(loss='sparse_categorical_crossentropy', optimizer='adam', metrics=['accuracy'])\n",
    "model.fit(train_data, train_labels, epochs=15, batch_size=16)"
   ]
  },
  {
   "cell_type": "code",
   "execution_count": null,
   "id": "9a6813b0",
   "metadata": {},
   "outputs": [],
   "source": [
    "with open('sentiment_model.pkl', 'wb') as f:\n",
    "    pickle.dump(model, f)"
   ]
  }
 ],
 "metadata": {
  "canvas": {
   "colorPalette": [
    "inherit",
    "inherit",
    "inherit",
    "inherit",
    "inherit",
    "inherit",
    "inherit",
    "inherit",
    "inherit",
    "inherit"
   ],
   "parameters": []
  },
  "kernelspec": {
   "display_name": "Python 3 (ipykernel)",
   "language": "python",
   "name": "python3"
  },
  "language_info": {
   "codemirror_mode": {
    "name": "ipython",
    "version": 3
   },
   "file_extension": ".py",
   "mimetype": "text/x-python",
   "name": "python",
   "nbconvert_exporter": "python",
   "pygments_lexer": "ipython3",
   "version": "3.11.5"
  }
 },
 "nbformat": 4,
 "nbformat_minor": 5
}
