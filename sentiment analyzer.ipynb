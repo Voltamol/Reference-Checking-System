{
 "cells": [
  {
   "cell_type": "code",
   "execution_count": null,
   "id": "44eb3f01-b65a-4f68-8374-1b289ce50f3f",
   "metadata": {
    "canvas": {
     "comments": [],
     "componentType": "CodeCell",
     "copiedOriginId": null,
     "diskcache": false,
     "headerColor": "transparent",
     "id": "93cbca79-c7b3-4d68-a0f7-e0ae43d49ca7",
     "isComponent": true,
     "name": "inspecting data",
     "parents": []
    },
    "tags": []
   },
   "outputs": [
    {
     "data": {
      "text/plain": [
       "Index(['id', 'person_name', 'nine_box_category', 'feedback', 'adjusted',\n",
       "       'reviewed', 'label', 'feedback_len', 'num_of_sent', 'performance_class',\n",
       "       'potential_class', 'feedback_clean', 'data_type'],\n",
       "      dtype='object')"
      ]
     },
     "execution_count": 0,
     "metadata": {
      "component_id": "93cbca79-c7b3-4d68-a0f7-e0ae43d49ca7"
     },
     "output_type": "execute_result"
    },
    {
     "data": {},
     "execution_count": 0,
     "metadata": {
      "component_id": "93cbca79-c7b3-4d68-a0f7-e0ae43d49ca7"
     },
     "output_type": "execute_result"
    }
   ],
   "source": [
    "import pandas as pd\n",
    "df=pd.read_csv('archive (3)/train_set.csv')\n",
    "df.columns"
   ]
  },
  {
   "cell_type": "code",
   "execution_count": 2,
   "id": "af0f7c7a-ff35-491d-bb79-581300d41137",
   "metadata": {
    "canvas": {
     "comments": [],
     "componentType": "CodeCell",
     "copiedOriginId": null,
     "diskcache": false,
     "headerColor": "transparent",
     "id": "190e57f5-4fca-4a34-ae48-22ac7c66cf69",
     "isComponent": true,
     "name": "specifying required columns",
     "parents": []
    },
    "tags": []
   },
   "outputs": [],
   "source": [
    "required=['feedback_clean','performance_class']"
   ]
  },
  {
   "cell_type": "code",
   "execution_count": 4,
   "id": "21be806d-5bac-43ad-8666-31c0ed4452be",
   "metadata": {
    "canvas": {
     "comments": [],
     "componentType": "CodeCell",
     "copiedOriginId": null,
     "diskcache": false,
     "headerColor": "transparent",
     "id": "7dae3ee7-3eab-428e-95ff-a05fbed2639f",
     "isComponent": true,
     "name": "filtering",
     "parents": [
      {
       "id": "93cbca79-c7b3-4d68-a0f7-e0ae43d49ca7",
       "name": "inspecting data"
      },
      {
       "id": "190e57f5-4fca-4a34-ae48-22ac7c66cf69",
       "name": "specifying required columns"
      }
     ]
    },
    "tags": []
   },
   "outputs": [],
   "source": [
    "data=df[required]"
   ]
  },
  {
   "cell_type": "code",
   "execution_count": 5,
   "id": "81c9758c-4b7e-4fc9-ba64-a2bef2d5ee8e",
   "metadata": {
    "canvas": {
     "comments": [],
     "componentType": "CodeCell",
     "copiedOriginId": null,
     "diskcache": false,
     "headerColor": "transparent",
     "id": "3476a007-9204-4c17-9f3c-da0ee2b41185",
     "isComponent": true,
     "name": "labelling function",
     "parents": []
    },
    "tags": []
   },
   "outputs": [],
   "source": [
    "labels={0:'negative',1:'positive',2:'neutral'}\n",
    "add_label=lambda x:labels.get(x)"
   ]
  },
  {
   "cell_type": "code",
   "execution_count": 6,
   "id": "4e5b0634-43a6-4587-9dc3-88676333ae85",
   "metadata": {
    "canvas": {
     "comments": [],
     "componentType": "CodeCell",
     "copiedOriginId": null,
     "diskcache": false,
     "headerColor": "transparent",
     "id": "ef240f2e-2233-499f-8b9c-01f7f706eb8d",
     "isComponent": true,
     "name": "applying the label function",
     "parents": [
      {
       "id": "3476a007-9204-4c17-9f3c-da0ee2b41185",
       "name": "labelling function"
      },
      {
       "id": "7dae3ee7-3eab-428e-95ff-a05fbed2639f",
       "name": "filtering"
      }
     ]
    },
    "tags": []
   },
   "outputs": [],
   "source": [
    "data['sentiment_label']=data['performance_class'].apply(add_label)"
   ]
  },
  {
   "cell_type": "code",
   "execution_count": 7,
   "id": "fc0605a8-20d0-4472-9179-470323335cba",
   "metadata": {
    "canvas": {
     "comments": [],
     "componentType": "CodeCell",
     "copiedOriginId": null,
     "diskcache": false,
     "headerColor": "transparent",
     "id": "fd617ee0-e477-41c1-80d4-115e152b348d",
     "isComponent": true,
     "name": "reading dataset",
     "parents": [
      {
       "id": "ef240f2e-2233-499f-8b9c-01f7f706eb8d",
       "name": "applying the label function"
      }
     ]
    },
    "tags": []
   },
   "outputs": [
    {
     "data": {
      "text/html": [
       "<div>\n",
       "<style scoped>\n",
       "    .dataframe tbody tr th:only-of-type {\n",
       "        vertical-align: middle;\n",
       "    }\n",
       "\n",
       "    .dataframe tbody tr th {\n",
       "        vertical-align: top;\n",
       "    }\n",
       "\n",
       "    .dataframe thead th {\n",
       "        text-align: right;\n",
       "    }\n",
       "</style>\n",
       "<table border=\"1\" class=\"dataframe\">\n",
       "  <thead>\n",
       "    <tr style=\"text-align: right;\">\n",
       "      <th></th>\n",
       "      <th>feedback_clean</th>\n",
       "      <th>performance_class</th>\n",
       "      <th>sentiment_label</th>\n",
       "    </tr>\n",
       "  </thead>\n",
       "  <tbody>\n",
       "    <tr>\n",
       "      <th>0</th>\n",
       "      <td>john ha not progressed in his position he is c...</td>\n",
       "      <td>0</td>\n",
       "      <td>negative</td>\n",
       "    </tr>\n",
       "    <tr>\n",
       "      <th>1</th>\n",
       "      <td>douglas henry ha been having trouble in all ar...</td>\n",
       "      <td>0</td>\n",
       "      <td>negative</td>\n",
       "    </tr>\n",
       "    <tr>\n",
       "      <th>2</th>\n",
       "      <td>douglas ha a lot to work on and area to grow i...</td>\n",
       "      <td>0</td>\n",
       "      <td>negative</td>\n",
       "    </tr>\n",
       "    <tr>\n",
       "      <th>3</th>\n",
       "      <td>freddie is a nice guy but his performance and ...</td>\n",
       "      <td>0</td>\n",
       "      <td>negative</td>\n",
       "    </tr>\n",
       "    <tr>\n",
       "      <th>4</th>\n",
       "      <td>freddie ha been quite disappointing this quart...</td>\n",
       "      <td>0</td>\n",
       "      <td>negative</td>\n",
       "    </tr>\n",
       "  </tbody>\n",
       "</table>\n",
       "</div>"
      ],
      "text/plain": [
       "                                      feedback_clean  performance_class  \\\n",
       "0  john ha not progressed in his position he is c...                  0   \n",
       "1  douglas henry ha been having trouble in all ar...                  0   \n",
       "2  douglas ha a lot to work on and area to grow i...                  0   \n",
       "3  freddie is a nice guy but his performance and ...                  0   \n",
       "4  freddie ha been quite disappointing this quart...                  0   \n",
       "\n",
       "  sentiment_label  \n",
       "0        negative  \n",
       "1        negative  \n",
       "2        negative  \n",
       "3        negative  \n",
       "4        negative  "
      ]
     },
     "execution_count": 0,
     "metadata": {
      "component_id": "fd617ee0-e477-41c1-80d4-115e152b348d"
     },
     "output_type": "execute_result"
    },
    {
     "data": {},
     "execution_count": 0,
     "metadata": {
      "component_id": "fd617ee0-e477-41c1-80d4-115e152b348d"
     },
     "output_type": "execute_result"
    }
   ],
   "source": [
    "data.head()"
   ]
  },
  {
   "cell_type": "code",
   "execution_count": 9,
   "id": "5b221cdb-dd19-4774-8467-90a234659060",
   "metadata": {
    "canvas": {
     "comments": [],
     "componentType": "CodeCell",
     "copiedOriginId": null,
     "diskcache": false,
     "headerColor": "transparent",
     "id": "5d145f4f-1e45-469c-aa13-6786bea784c6",
     "isComponent": true,
     "name": "saving the new dataset",
     "parents": [
      {
       "id": "ef240f2e-2233-499f-8b9c-01f7f706eb8d",
       "name": "applying the label function"
      }
     ]
    },
    "tags": []
   },
   "outputs": [],
   "source": [
    "data.to_csv('employee_sentiments.csv',index=False)"
   ]
  }
 ],
 "metadata": {
  "canvas": {
   "colorPalette": [
    "inherit",
    "inherit",
    "inherit",
    "inherit",
    "inherit",
    "inherit",
    "inherit",
    "inherit",
    "inherit",
    "inherit"
   ],
   "parameters": [],
   "version": "1.0"
  },
  "kernelspec": {
   "display_name": "Python 3 (ipykernel)",
   "language": "python",
   "name": "python3"
  },
  "language_info": {
   "codemirror_mode": {
    "name": "ipython",
    "version": 3
   },
   "file_extension": ".py",
   "mimetype": "text/x-python",
   "name": "python",
   "nbconvert_exporter": "python",
   "pygments_lexer": "ipython3",
   "version": "3.10.12"
  }
 },
 "nbformat": 4,
 "nbformat_minor": 5
}
